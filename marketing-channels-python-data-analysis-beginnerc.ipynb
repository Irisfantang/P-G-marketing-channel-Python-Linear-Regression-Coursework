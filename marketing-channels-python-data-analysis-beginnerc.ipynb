{
 "cells": [
  {
   "cell_type": "markdown",
   "id": "naughty-christopher",
   "metadata": {
    "papermill": {
     "duration": 0.037194,
     "end_time": "2021-06-28T10:17:23.980635",
     "exception": false,
     "start_time": "2021-06-28T10:17:23.943441",
     "status": "completed"
    },
    "tags": []
   },
   "source": [
    "# P&G Python Linear Regression Model:  the marketing channel that has the greatest impact on sales\n",
    "\n",
    "### Data set Description\n",
    "\n",
    "Assume that a P&G marketing director in charge of media placement, event promotion wants to find the channel that has the greatest impact on sales among the marketing channels currently in use.Therefore, in the case of limited resources, it can be targeted delivery for the business, so that sales to achieve greater growth.\n",
    "\n",
    "The aim of the case study is to find the relationship between revenue and maketing channel investment in a linear regression form.\n",
    "\n",
    "The goal is to get equation which is similar to this:\n",
    "\n",
    "**y = intercept + coef1\\*x1 + coef2\\*x2......**\n",
    "\n",
    "### Terminology Understanding\n",
    "\n",
    "[MAE](https://www.statisticshowto.com/absolute-error/)\\\n",
    "[RMSE](https://www.statisticshowto.com/probability-and-statistics/regression-analysis/rmse-root-mean-square-error/)\\\n",
    "[OLS](https://www.xlstat.com/en/solutions/features/ordinary-least-squares-regression-ols)"
   ]
  },
  {
   "cell_type": "markdown",
   "id": "moving-thursday",
   "metadata": {
    "papermill": {
     "duration": 0.03482,
     "end_time": "2021-06-28T10:17:24.050975",
     "exception": false,
     "start_time": "2021-06-28T10:17:24.016155",
     "status": "completed"
    },
    "tags": []
   },
   "source": [
    "### Import library and data"
   ]
  },
  {
   "cell_type": "code",
   "execution_count": 1,
   "id": "mexican-zimbabwe",
   "metadata": {
    "execution": {
     "iopub.execute_input": "2021-06-28T10:17:24.127637Z",
     "iopub.status.busy": "2021-06-28T10:17:24.125810Z",
     "iopub.status.idle": "2021-06-28T10:17:24.153289Z",
     "shell.execute_reply": "2021-06-28T10:17:24.152530Z",
     "shell.execute_reply.started": "2021-06-28T09:54:54.486842Z"
    },
    "papermill": {
     "duration": 0.067283,
     "end_time": "2021-06-28T10:17:24.153463",
     "exception": false,
     "start_time": "2021-06-28T10:17:24.086180",
     "status": "completed"
    },
    "tags": []
   },
   "outputs": [],
   "source": [
    "import pandas as pd\n",
    "store = pd.read_csv('../input/store-data/Store.csv')"
   ]
  },
  {
   "cell_type": "markdown",
   "id": "opened-execution",
   "metadata": {
    "papermill": {
     "duration": 0.034785,
     "end_time": "2021-06-28T10:17:24.223643",
     "exception": false,
     "start_time": "2021-06-28T10:17:24.188858",
     "status": "completed"
    },
    "tags": []
   },
   "source": [
    "### Understand the dataframe\n",
    "* Dataframe info\n",
    "* Data cleaning and manipulation \n",
    "* Basic statistics"
   ]
  },
  {
   "cell_type": "code",
   "execution_count": 2,
   "id": "talented-underwear",
   "metadata": {
    "execution": {
     "iopub.execute_input": "2021-06-28T10:17:24.321273Z",
     "iopub.status.busy": "2021-06-28T10:17:24.320571Z",
     "iopub.status.idle": "2021-06-28T10:17:24.350893Z",
     "shell.execute_reply": "2021-06-28T10:17:24.351420Z",
     "shell.execute_reply.started": "2021-06-28T09:54:58.857949Z"
    },
    "papermill": {
     "duration": 0.092564,
     "end_time": "2021-06-28T10:17:24.351587",
     "exception": false,
     "start_time": "2021-06-28T10:17:24.259023",
     "status": "completed"
    },
    "tags": []
   },
   "outputs": [
    {
     "name": "stdout",
     "output_type": "stream",
     "text": [
      "<class 'pandas.core.frame.DataFrame'>\n",
      "RangeIndex: 985 entries, 0 to 984\n",
      "Data columns (total 8 columns):\n",
      " #   Column      Non-Null Count  Dtype  \n",
      "---  ------      --------------  -----  \n",
      " 0   Unnamed: 0  985 non-null    int64  \n",
      " 1   revenue     985 non-null    float64\n",
      " 2   reach       985 non-null    int64  \n",
      " 3   local_tv    929 non-null    float64\n",
      " 4   online      985 non-null    int64  \n",
      " 5   instore     985 non-null    int64  \n",
      " 6   person      985 non-null    int64  \n",
      " 7   event       985 non-null    object \n",
      "dtypes: float64(2), int64(5), object(1)\n",
      "memory usage: 61.7+ KB\n"
     ]
    },
    {
     "data": {
      "text/html": [
       "<div>\n",
       "<style scoped>\n",
       "    .dataframe tbody tr th:only-of-type {\n",
       "        vertical-align: middle;\n",
       "    }\n",
       "\n",
       "    .dataframe tbody tr th {\n",
       "        vertical-align: top;\n",
       "    }\n",
       "\n",
       "    .dataframe thead th {\n",
       "        text-align: right;\n",
       "    }\n",
       "</style>\n",
       "<table border=\"1\" class=\"dataframe\">\n",
       "  <thead>\n",
       "    <tr style=\"text-align: right;\">\n",
       "      <th></th>\n",
       "      <th>Unnamed: 0</th>\n",
       "      <th>revenue</th>\n",
       "      <th>reach</th>\n",
       "      <th>local_tv</th>\n",
       "      <th>online</th>\n",
       "      <th>instore</th>\n",
       "      <th>person</th>\n",
       "      <th>event</th>\n",
       "    </tr>\n",
       "  </thead>\n",
       "  <tbody>\n",
       "    <tr>\n",
       "      <th>0</th>\n",
       "      <td>845</td>\n",
       "      <td>45860.28</td>\n",
       "      <td>2</td>\n",
       "      <td>31694.91</td>\n",
       "      <td>2115</td>\n",
       "      <td>3296</td>\n",
       "      <td>8</td>\n",
       "      <td>non_event</td>\n",
       "    </tr>\n",
       "    <tr>\n",
       "      <th>1</th>\n",
       "      <td>483</td>\n",
       "      <td>63588.23</td>\n",
       "      <td>2</td>\n",
       "      <td>35040.17</td>\n",
       "      <td>1826</td>\n",
       "      <td>2501</td>\n",
       "      <td>14</td>\n",
       "      <td>special</td>\n",
       "    </tr>\n",
       "    <tr>\n",
       "      <th>2</th>\n",
       "      <td>513</td>\n",
       "      <td>23272.69</td>\n",
       "      <td>4</td>\n",
       "      <td>30992.82</td>\n",
       "      <td>1851</td>\n",
       "      <td>2524</td>\n",
       "      <td>6</td>\n",
       "      <td>special</td>\n",
       "    </tr>\n",
       "    <tr>\n",
       "      <th>3</th>\n",
       "      <td>599</td>\n",
       "      <td>45911.23</td>\n",
       "      <td>2</td>\n",
       "      <td>29417.78</td>\n",
       "      <td>2437</td>\n",
       "      <td>3049</td>\n",
       "      <td>12</td>\n",
       "      <td>special</td>\n",
       "    </tr>\n",
       "    <tr>\n",
       "      <th>4</th>\n",
       "      <td>120</td>\n",
       "      <td>36644.23</td>\n",
       "      <td>2</td>\n",
       "      <td>35611.11</td>\n",
       "      <td>1122</td>\n",
       "      <td>1142</td>\n",
       "      <td>13</td>\n",
       "      <td>cobranding</td>\n",
       "    </tr>\n",
       "  </tbody>\n",
       "</table>\n",
       "</div>"
      ],
      "text/plain": [
       "   Unnamed: 0   revenue  reach  local_tv  online  instore  person       event\n",
       "0         845  45860.28      2  31694.91    2115     3296       8   non_event\n",
       "1         483  63588.23      2  35040.17    1826     2501      14     special\n",
       "2         513  23272.69      4  30992.82    1851     2524       6     special\n",
       "3         599  45911.23      2  29417.78    2437     3049      12     special\n",
       "4         120  36644.23      2  35611.11    1122     1142      13  cobranding"
      ]
     },
     "execution_count": 2,
     "metadata": {},
     "output_type": "execute_result"
    }
   ],
   "source": [
    "store.info()\n",
    "store.head()"
   ]
  },
  {
   "cell_type": "markdown",
   "id": "undefined-chain",
   "metadata": {
    "papermill": {
     "duration": 0.035581,
     "end_time": "2021-06-28T10:17:24.423870",
     "exception": false,
     "start_time": "2021-06-28T10:17:24.388289",
     "status": "completed"
    },
    "tags": []
   },
   "source": [
    "**Some variables description**\n",
    "\n",
    "**reach:** tweet times (Wechat tweet or Twitter)\\\n",
    "**local_tv:** local TV advertising investment\\\n",
    "**online:** online advertising investment\\\n",
    "**instore:** in stores investment, for example posters and displays\\\n",
    "**person:** store sales staff input\\\n",
    "**event:** promotional events"
   ]
  },
  {
   "cell_type": "markdown",
   "id": "gorgeous-guess",
   "metadata": {
    "papermill": {
     "duration": 0.035541,
     "end_time": "2021-06-28T10:17:24.495281",
     "exception": false,
     "start_time": "2021-06-28T10:17:24.459740",
     "status": "completed"
    },
    "tags": []
   },
   "source": [
    "From the results above, I found that the column 'local_tv' included some missing values, so I considered using the 'local_tv' mean values to fill the null. Another thing I noticed was column'Unnamed: 0' wasn't needed, so I planned to delete the column. \n",
    "\n",
    "First, I want to check how many null values take place in each column."
   ]
  },
  {
   "cell_type": "code",
   "execution_count": 3,
   "id": "usual-college",
   "metadata": {
    "execution": {
     "iopub.execute_input": "2021-06-28T10:17:24.575907Z",
     "iopub.status.busy": "2021-06-28T10:17:24.575278Z",
     "iopub.status.idle": "2021-06-28T10:17:24.579515Z",
     "shell.execute_reply": "2021-06-28T10:17:24.578859Z",
     "shell.execute_reply.started": "2021-06-28T09:55:37.866738Z"
    },
    "papermill": {
     "duration": 0.048441,
     "end_time": "2021-06-28T10:17:24.579656",
     "exception": false,
     "start_time": "2021-06-28T10:17:24.531215",
     "status": "completed"
    },
    "tags": []
   },
   "outputs": [
    {
     "data": {
      "text/plain": [
       "Unnamed: 0     0\n",
       "revenue        0\n",
       "reach          0\n",
       "local_tv      56\n",
       "online         0\n",
       "instore        0\n",
       "person         0\n",
       "event          0\n",
       "dtype: int64"
      ]
     },
     "execution_count": 3,
     "metadata": {},
     "output_type": "execute_result"
    }
   ],
   "source": [
    "store.isnull().sum()"
   ]
  },
  {
   "cell_type": "markdown",
   "id": "worse-extension",
   "metadata": {
    "papermill": {
     "duration": 0.037269,
     "end_time": "2021-06-28T10:17:24.653179",
     "exception": false,
     "start_time": "2021-06-28T10:17:24.615910",
     "status": "completed"
    },
    "tags": []
   },
   "source": [
    "The result shows there are 5 null values in 'local_tv' column. Now, I start to fill the null values."
   ]
  },
  {
   "cell_type": "code",
   "execution_count": 4,
   "id": "binary-washington",
   "metadata": {
    "execution": {
     "iopub.execute_input": "2021-06-28T10:17:24.742078Z",
     "iopub.status.busy": "2021-06-28T10:17:24.741186Z",
     "iopub.status.idle": "2021-06-28T10:17:24.744388Z",
     "shell.execute_reply": "2021-06-28T10:17:24.744870Z",
     "shell.execute_reply.started": "2021-06-28T09:55:46.679287Z"
    },
    "papermill": {
     "duration": 0.055645,
     "end_time": "2021-06-28T10:17:24.745089",
     "exception": false,
     "start_time": "2021-06-28T10:17:24.689444",
     "status": "completed"
    },
    "tags": []
   },
   "outputs": [],
   "source": [
    "store['local_tv'] = store['local_tv'].fillna(store['local_tv'].mean())"
   ]
  },
  {
   "cell_type": "markdown",
   "id": "bound-angola",
   "metadata": {
    "papermill": {
     "duration": 0.04138,
     "end_time": "2021-06-28T10:17:24.830741",
     "exception": false,
     "start_time": "2021-06-28T10:17:24.789361",
     "status": "completed"
    },
    "tags": []
   },
   "source": [
    "Also, it is needed to check if I successfully conducted the step above."
   ]
  },
  {
   "cell_type": "code",
   "execution_count": 5,
   "id": "lesser-fairy",
   "metadata": {
    "execution": {
     "iopub.execute_input": "2021-06-28T10:17:24.913238Z",
     "iopub.status.busy": "2021-06-28T10:17:24.912485Z",
     "iopub.status.idle": "2021-06-28T10:17:24.925440Z",
     "shell.execute_reply": "2021-06-28T10:17:24.924782Z",
     "shell.execute_reply.started": "2021-06-28T09:56:03.921393Z"
    },
    "papermill": {
     "duration": 0.056147,
     "end_time": "2021-06-28T10:17:24.925590",
     "exception": false,
     "start_time": "2021-06-28T10:17:24.869443",
     "status": "completed"
    },
    "tags": []
   },
   "outputs": [
    {
     "name": "stdout",
     "output_type": "stream",
     "text": [
      "<class 'pandas.core.frame.DataFrame'>\n",
      "RangeIndex: 985 entries, 0 to 984\n",
      "Data columns (total 8 columns):\n",
      " #   Column      Non-Null Count  Dtype  \n",
      "---  ------      --------------  -----  \n",
      " 0   Unnamed: 0  985 non-null    int64  \n",
      " 1   revenue     985 non-null    float64\n",
      " 2   reach       985 non-null    int64  \n",
      " 3   local_tv    985 non-null    float64\n",
      " 4   online      985 non-null    int64  \n",
      " 5   instore     985 non-null    int64  \n",
      " 6   person      985 non-null    int64  \n",
      " 7   event       985 non-null    object \n",
      "dtypes: float64(2), int64(5), object(1)\n",
      "memory usage: 61.7+ KB\n"
     ]
    }
   ],
   "source": [
    "store.info()"
   ]
  },
  {
   "cell_type": "markdown",
   "id": "exact-paste",
   "metadata": {
    "papermill": {
     "duration": 0.0372,
     "end_time": "2021-06-28T10:17:24.999579",
     "exception": false,
     "start_time": "2021-06-28T10:17:24.962379",
     "status": "completed"
    },
    "tags": []
   },
   "source": [
    "Now it's time to delete column 'Unnamed: 0'."
   ]
  },
  {
   "cell_type": "code",
   "execution_count": 6,
   "id": "minus-surrey",
   "metadata": {
    "execution": {
     "iopub.execute_input": "2021-06-28T10:17:25.080185Z",
     "iopub.status.busy": "2021-06-28T10:17:25.079453Z",
     "iopub.status.idle": "2021-06-28T10:17:25.083021Z",
     "shell.execute_reply": "2021-06-28T10:17:25.082494Z",
     "shell.execute_reply.started": "2021-06-28T09:56:11.151304Z"
    },
    "papermill": {
     "duration": 0.046871,
     "end_time": "2021-06-28T10:17:25.083170",
     "exception": false,
     "start_time": "2021-06-28T10:17:25.036299",
     "status": "completed"
    },
    "tags": []
   },
   "outputs": [],
   "source": [
    "store = store.drop('Unnamed: 0', axis = 1)"
   ]
  },
  {
   "cell_type": "markdown",
   "id": "unknown-footwear",
   "metadata": {
    "papermill": {
     "duration": 0.036332,
     "end_time": "2021-06-28T10:17:25.157048",
     "exception": false,
     "start_time": "2021-06-28T10:17:25.120716",
     "status": "completed"
    },
    "tags": []
   },
   "source": [
    "Similiarly, I am going to check if the \"drop\" was successful."
   ]
  },
  {
   "cell_type": "code",
   "execution_count": 7,
   "id": "solved-potter",
   "metadata": {
    "execution": {
     "iopub.execute_input": "2021-06-28T10:17:25.243559Z",
     "iopub.status.busy": "2021-06-28T10:17:25.242694Z",
     "iopub.status.idle": "2021-06-28T10:17:25.247856Z",
     "shell.execute_reply": "2021-06-28T10:17:25.247290Z",
     "shell.execute_reply.started": "2021-06-28T09:56:16.659449Z"
    },
    "papermill": {
     "duration": 0.054373,
     "end_time": "2021-06-28T10:17:25.248027",
     "exception": false,
     "start_time": "2021-06-28T10:17:25.193654",
     "status": "completed"
    },
    "tags": []
   },
   "outputs": [
    {
     "data": {
      "text/html": [
       "<div>\n",
       "<style scoped>\n",
       "    .dataframe tbody tr th:only-of-type {\n",
       "        vertical-align: middle;\n",
       "    }\n",
       "\n",
       "    .dataframe tbody tr th {\n",
       "        vertical-align: top;\n",
       "    }\n",
       "\n",
       "    .dataframe thead th {\n",
       "        text-align: right;\n",
       "    }\n",
       "</style>\n",
       "<table border=\"1\" class=\"dataframe\">\n",
       "  <thead>\n",
       "    <tr style=\"text-align: right;\">\n",
       "      <th></th>\n",
       "      <th>revenue</th>\n",
       "      <th>reach</th>\n",
       "      <th>local_tv</th>\n",
       "      <th>online</th>\n",
       "      <th>instore</th>\n",
       "      <th>person</th>\n",
       "      <th>event</th>\n",
       "    </tr>\n",
       "  </thead>\n",
       "  <tbody>\n",
       "    <tr>\n",
       "      <th>0</th>\n",
       "      <td>45860.28</td>\n",
       "      <td>2</td>\n",
       "      <td>31694.91</td>\n",
       "      <td>2115</td>\n",
       "      <td>3296</td>\n",
       "      <td>8</td>\n",
       "      <td>non_event</td>\n",
       "    </tr>\n",
       "    <tr>\n",
       "      <th>1</th>\n",
       "      <td>63588.23</td>\n",
       "      <td>2</td>\n",
       "      <td>35040.17</td>\n",
       "      <td>1826</td>\n",
       "      <td>2501</td>\n",
       "      <td>14</td>\n",
       "      <td>special</td>\n",
       "    </tr>\n",
       "    <tr>\n",
       "      <th>2</th>\n",
       "      <td>23272.69</td>\n",
       "      <td>4</td>\n",
       "      <td>30992.82</td>\n",
       "      <td>1851</td>\n",
       "      <td>2524</td>\n",
       "      <td>6</td>\n",
       "      <td>special</td>\n",
       "    </tr>\n",
       "    <tr>\n",
       "      <th>3</th>\n",
       "      <td>45911.23</td>\n",
       "      <td>2</td>\n",
       "      <td>29417.78</td>\n",
       "      <td>2437</td>\n",
       "      <td>3049</td>\n",
       "      <td>12</td>\n",
       "      <td>special</td>\n",
       "    </tr>\n",
       "    <tr>\n",
       "      <th>4</th>\n",
       "      <td>36644.23</td>\n",
       "      <td>2</td>\n",
       "      <td>35611.11</td>\n",
       "      <td>1122</td>\n",
       "      <td>1142</td>\n",
       "      <td>13</td>\n",
       "      <td>cobranding</td>\n",
       "    </tr>\n",
       "  </tbody>\n",
       "</table>\n",
       "</div>"
      ],
      "text/plain": [
       "    revenue  reach  local_tv  online  instore  person       event\n",
       "0  45860.28      2  31694.91    2115     3296       8   non_event\n",
       "1  63588.23      2  35040.17    1826     2501      14     special\n",
       "2  23272.69      4  30992.82    1851     2524       6     special\n",
       "3  45911.23      2  29417.78    2437     3049      12     special\n",
       "4  36644.23      2  35611.11    1122     1142      13  cobranding"
      ]
     },
     "execution_count": 7,
     "metadata": {},
     "output_type": "execute_result"
    }
   ],
   "source": [
    "store.head()"
   ]
  },
  {
   "cell_type": "markdown",
   "id": "surprised-writer",
   "metadata": {
    "papermill": {
     "duration": 0.037248,
     "end_time": "2021-06-28T10:17:25.322981",
     "exception": false,
     "start_time": "2021-06-28T10:17:25.285733",
     "status": "completed"
    },
    "tags": []
   },
   "source": [
    "Now I have finished all the data cleaning. It's time to do some statistics using describe(). First, I will apply the describe() to the whole dataframe."
   ]
  },
  {
   "cell_type": "code",
   "execution_count": 8,
   "id": "harmful-attitude",
   "metadata": {
    "execution": {
     "iopub.execute_input": "2021-06-28T10:17:25.407051Z",
     "iopub.status.busy": "2021-06-28T10:17:25.402706Z",
     "iopub.status.idle": "2021-06-28T10:17:25.438438Z",
     "shell.execute_reply": "2021-06-28T10:17:25.437734Z",
     "shell.execute_reply.started": "2021-06-28T09:57:16.502235Z"
    },
    "papermill": {
     "duration": 0.077878,
     "end_time": "2021-06-28T10:17:25.438581",
     "exception": false,
     "start_time": "2021-06-28T10:17:25.360703",
     "status": "completed"
    },
    "tags": []
   },
   "outputs": [
    {
     "data": {
      "text/html": [
       "<div>\n",
       "<style scoped>\n",
       "    .dataframe tbody tr th:only-of-type {\n",
       "        vertical-align: middle;\n",
       "    }\n",
       "\n",
       "    .dataframe tbody tr th {\n",
       "        vertical-align: top;\n",
       "    }\n",
       "\n",
       "    .dataframe thead th {\n",
       "        text-align: right;\n",
       "    }\n",
       "</style>\n",
       "<table border=\"1\" class=\"dataframe\">\n",
       "  <thead>\n",
       "    <tr style=\"text-align: right;\">\n",
       "      <th></th>\n",
       "      <th>revenue</th>\n",
       "      <th>reach</th>\n",
       "      <th>local_tv</th>\n",
       "      <th>online</th>\n",
       "      <th>instore</th>\n",
       "      <th>person</th>\n",
       "    </tr>\n",
       "  </thead>\n",
       "  <tbody>\n",
       "    <tr>\n",
       "      <th>count</th>\n",
       "      <td>985.000000</td>\n",
       "      <td>985.000000</td>\n",
       "      <td>985.000000</td>\n",
       "      <td>985.000000</td>\n",
       "      <td>985.000000</td>\n",
       "      <td>985.000000</td>\n",
       "    </tr>\n",
       "    <tr>\n",
       "      <th>mean</th>\n",
       "      <td>38357.355025</td>\n",
       "      <td>3.395939</td>\n",
       "      <td>31324.061109</td>\n",
       "      <td>1596.527919</td>\n",
       "      <td>3350.962437</td>\n",
       "      <td>11.053807</td>\n",
       "    </tr>\n",
       "    <tr>\n",
       "      <th>std</th>\n",
       "      <td>11675.603883</td>\n",
       "      <td>1.011913</td>\n",
       "      <td>3856.285575</td>\n",
       "      <td>496.131586</td>\n",
       "      <td>976.546381</td>\n",
       "      <td>3.041740</td>\n",
       "    </tr>\n",
       "    <tr>\n",
       "      <th>min</th>\n",
       "      <td>5000.000000</td>\n",
       "      <td>0.000000</td>\n",
       "      <td>20000.000000</td>\n",
       "      <td>0.000000</td>\n",
       "      <td>0.000000</td>\n",
       "      <td>0.000000</td>\n",
       "    </tr>\n",
       "    <tr>\n",
       "      <th>25%</th>\n",
       "      <td>30223.600000</td>\n",
       "      <td>3.000000</td>\n",
       "      <td>28954.530000</td>\n",
       "      <td>1253.000000</td>\n",
       "      <td>2690.000000</td>\n",
       "      <td>9.000000</td>\n",
       "    </tr>\n",
       "    <tr>\n",
       "      <th>50%</th>\n",
       "      <td>38159.110000</td>\n",
       "      <td>3.000000</td>\n",
       "      <td>31324.061109</td>\n",
       "      <td>1607.000000</td>\n",
       "      <td>3351.000000</td>\n",
       "      <td>11.000000</td>\n",
       "    </tr>\n",
       "    <tr>\n",
       "      <th>75%</th>\n",
       "      <td>45826.520000</td>\n",
       "      <td>4.000000</td>\n",
       "      <td>33782.890000</td>\n",
       "      <td>1921.000000</td>\n",
       "      <td>4011.000000</td>\n",
       "      <td>13.000000</td>\n",
       "    </tr>\n",
       "    <tr>\n",
       "      <th>max</th>\n",
       "      <td>79342.070000</td>\n",
       "      <td>7.000000</td>\n",
       "      <td>43676.900000</td>\n",
       "      <td>3280.000000</td>\n",
       "      <td>6489.000000</td>\n",
       "      <td>24.000000</td>\n",
       "    </tr>\n",
       "  </tbody>\n",
       "</table>\n",
       "</div>"
      ],
      "text/plain": [
       "            revenue       reach      local_tv       online      instore  \\\n",
       "count    985.000000  985.000000    985.000000   985.000000   985.000000   \n",
       "mean   38357.355025    3.395939  31324.061109  1596.527919  3350.962437   \n",
       "std    11675.603883    1.011913   3856.285575   496.131586   976.546381   \n",
       "min     5000.000000    0.000000  20000.000000     0.000000     0.000000   \n",
       "25%    30223.600000    3.000000  28954.530000  1253.000000  2690.000000   \n",
       "50%    38159.110000    3.000000  31324.061109  1607.000000  3351.000000   \n",
       "75%    45826.520000    4.000000  33782.890000  1921.000000  4011.000000   \n",
       "max    79342.070000    7.000000  43676.900000  3280.000000  6489.000000   \n",
       "\n",
       "           person  \n",
       "count  985.000000  \n",
       "mean    11.053807  \n",
       "std      3.041740  \n",
       "min      0.000000  \n",
       "25%      9.000000  \n",
       "50%     11.000000  \n",
       "75%     13.000000  \n",
       "max     24.000000  "
      ]
     },
     "execution_count": 8,
     "metadata": {},
     "output_type": "execute_result"
    }
   ],
   "source": [
    "store.describe()"
   ]
  },
  {
   "cell_type": "markdown",
   "id": "fifth-praise",
   "metadata": {
    "papermill": {
     "duration": 0.037964,
     "end_time": "2021-06-28T10:17:25.514417",
     "exception": false,
     "start_time": "2021-06-28T10:17:25.476453",
     "status": "completed"
    },
    "tags": []
   },
   "source": [
    "At this stage, I can point out some important information:\n",
    "\n",
    "Only the column 'event' is categorical column. I will need to convert it to dummy vaiable later.\n",
    "\n",
    "\n",
    "Now, I will check what are the unique values in 'event' column."
   ]
  },
  {
   "cell_type": "code",
   "execution_count": 9,
   "id": "crude-combat",
   "metadata": {
    "execution": {
     "iopub.execute_input": "2021-06-28T10:17:25.597301Z",
     "iopub.status.busy": "2021-06-28T10:17:25.596624Z",
     "iopub.status.idle": "2021-06-28T10:17:25.600407Z",
     "shell.execute_reply": "2021-06-28T10:17:25.599783Z",
     "shell.execute_reply.started": "2021-06-28T09:57:42.157719Z"
    },
    "papermill": {
     "duration": 0.047611,
     "end_time": "2021-06-28T10:17:25.600544",
     "exception": false,
     "start_time": "2021-06-28T10:17:25.552933",
     "status": "completed"
    },
    "tags": []
   },
   "outputs": [
    {
     "data": {
      "text/plain": [
       "array(['non_event', 'special', 'cobranding', 'holiday'], dtype=object)"
      ]
     },
     "execution_count": 9,
     "metadata": {},
     "output_type": "execute_result"
    }
   ],
   "source": [
    "store.event.unique()"
   ]
  },
  {
   "cell_type": "markdown",
   "id": "gorgeous-jacksonville",
   "metadata": {
    "papermill": {
     "duration": 0.037547,
     "end_time": "2021-06-28T10:17:25.677637",
     "exception": false,
     "start_time": "2021-06-28T10:17:25.640090",
     "status": "completed"
    },
    "tags": []
   },
   "source": [
    "I am also interested in the renenue under these four types of event."
   ]
  },
  {
   "cell_type": "code",
   "execution_count": 10,
   "id": "billion-anthropology",
   "metadata": {
    "execution": {
     "iopub.execute_input": "2021-06-28T10:17:25.760236Z",
     "iopub.status.busy": "2021-06-28T10:17:25.759552Z",
     "iopub.status.idle": "2021-06-28T10:17:25.792184Z",
     "shell.execute_reply": "2021-06-28T10:17:25.792657Z",
     "shell.execute_reply.started": "2021-06-28T09:57:54.795142Z"
    },
    "papermill": {
     "duration": 0.077245,
     "end_time": "2021-06-28T10:17:25.792842",
     "exception": false,
     "start_time": "2021-06-28T10:17:25.715597",
     "status": "completed"
    },
    "tags": []
   },
   "outputs": [
    {
     "data": {
      "text/html": [
       "<div>\n",
       "<style scoped>\n",
       "    .dataframe tbody tr th:only-of-type {\n",
       "        vertical-align: middle;\n",
       "    }\n",
       "\n",
       "    .dataframe tbody tr th {\n",
       "        vertical-align: top;\n",
       "    }\n",
       "\n",
       "    .dataframe thead th {\n",
       "        text-align: right;\n",
       "    }\n",
       "</style>\n",
       "<table border=\"1\" class=\"dataframe\">\n",
       "  <thead>\n",
       "    <tr style=\"text-align: right;\">\n",
       "      <th></th>\n",
       "      <th>count</th>\n",
       "      <th>mean</th>\n",
       "      <th>std</th>\n",
       "      <th>min</th>\n",
       "      <th>25%</th>\n",
       "      <th>50%</th>\n",
       "      <th>75%</th>\n",
       "      <th>max</th>\n",
       "    </tr>\n",
       "    <tr>\n",
       "      <th>event</th>\n",
       "      <th></th>\n",
       "      <th></th>\n",
       "      <th></th>\n",
       "      <th></th>\n",
       "      <th></th>\n",
       "      <th></th>\n",
       "      <th></th>\n",
       "      <th></th>\n",
       "    </tr>\n",
       "  </thead>\n",
       "  <tbody>\n",
       "    <tr>\n",
       "      <th>cobranding</th>\n",
       "      <td>398.0</td>\n",
       "      <td>38277.664497</td>\n",
       "      <td>11879.097324</td>\n",
       "      <td>7146.99</td>\n",
       "      <td>30472.1525</td>\n",
       "      <td>37864.155</td>\n",
       "      <td>46333.5600</td>\n",
       "      <td>79342.07</td>\n",
       "    </tr>\n",
       "    <tr>\n",
       "      <th>holiday</th>\n",
       "      <td>103.0</td>\n",
       "      <td>37791.890583</td>\n",
       "      <td>11942.369136</td>\n",
       "      <td>5000.00</td>\n",
       "      <td>29644.5250</td>\n",
       "      <td>38432.780</td>\n",
       "      <td>46036.1300</td>\n",
       "      <td>73377.15</td>\n",
       "    </tr>\n",
       "    <tr>\n",
       "      <th>non_event</th>\n",
       "      <td>192.0</td>\n",
       "      <td>37903.081563</td>\n",
       "      <td>11186.436740</td>\n",
       "      <td>6874.43</td>\n",
       "      <td>29852.3775</td>\n",
       "      <td>37937.175</td>\n",
       "      <td>44611.6375</td>\n",
       "      <td>69429.39</td>\n",
       "    </tr>\n",
       "    <tr>\n",
       "      <th>special</th>\n",
       "      <td>292.0</td>\n",
       "      <td>38964.136438</td>\n",
       "      <td>11648.616882</td>\n",
       "      <td>10207.96</td>\n",
       "      <td>30325.8125</td>\n",
       "      <td>39197.870</td>\n",
       "      <td>45897.0400</td>\n",
       "      <td>71757.50</td>\n",
       "    </tr>\n",
       "  </tbody>\n",
       "</table>\n",
       "</div>"
      ],
      "text/plain": [
       "            count          mean           std       min         25%  \\\n",
       "event                                                                 \n",
       "cobranding  398.0  38277.664497  11879.097324   7146.99  30472.1525   \n",
       "holiday     103.0  37791.890583  11942.369136   5000.00  29644.5250   \n",
       "non_event   192.0  37903.081563  11186.436740   6874.43  29852.3775   \n",
       "special     292.0  38964.136438  11648.616882  10207.96  30325.8125   \n",
       "\n",
       "                  50%         75%       max  \n",
       "event                                        \n",
       "cobranding  37864.155  46333.5600  79342.07  \n",
       "holiday     38432.780  46036.1300  73377.15  \n",
       "non_event   37937.175  44611.6375  69429.39  \n",
       "special     39197.870  45897.0400  71757.50  "
      ]
     },
     "execution_count": 10,
     "metadata": {},
     "output_type": "execute_result"
    }
   ],
   "source": [
    "store.groupby(['event'])['revenue'].describe()"
   ]
  },
  {
   "cell_type": "markdown",
   "id": "hundred-auditor",
   "metadata": {
    "papermill": {
     "duration": 0.038395,
     "end_time": "2021-06-28T10:17:25.870309",
     "exception": false,
     "start_time": "2021-06-28T10:17:25.831914",
     "status": "completed"
    },
    "tags": []
   },
   "source": [
    "From the result above, I noticed:\n",
    "\n",
    "* special event earned the most revenue averagely\n",
    "* cobranding is the most fequent event\n",
    "\n",
    "Time to convert 'event' to dummy variable."
   ]
  },
  {
   "cell_type": "code",
   "execution_count": 11,
   "id": "departmental-intensity",
   "metadata": {
    "execution": {
     "iopub.execute_input": "2021-06-28T10:17:25.951971Z",
     "iopub.status.busy": "2021-06-28T10:17:25.951315Z",
     "iopub.status.idle": "2021-06-28T10:17:25.961395Z",
     "shell.execute_reply": "2021-06-28T10:17:25.961905Z",
     "shell.execute_reply.started": "2021-06-28T09:58:06.91228Z"
    },
    "papermill": {
     "duration": 0.053116,
     "end_time": "2021-06-28T10:17:25.962126",
     "exception": false,
     "start_time": "2021-06-28T10:17:25.909010",
     "status": "completed"
    },
    "tags": []
   },
   "outputs": [],
   "source": [
    "store = pd.get_dummies(store)"
   ]
  },
  {
   "cell_type": "markdown",
   "id": "described-failing",
   "metadata": {
    "papermill": {
     "duration": 0.038141,
     "end_time": "2021-06-28T10:17:26.039590",
     "exception": false,
     "start_time": "2021-06-28T10:17:26.001449",
     "status": "completed"
    },
    "tags": []
   },
   "source": [
    "Let's take a look at how the dataframe is changed now."
   ]
  },
  {
   "cell_type": "code",
   "execution_count": 12,
   "id": "through-temple",
   "metadata": {
    "execution": {
     "iopub.execute_input": "2021-06-28T10:17:26.120697Z",
     "iopub.status.busy": "2021-06-28T10:17:26.120047Z",
     "iopub.status.idle": "2021-06-28T10:17:26.136354Z",
     "shell.execute_reply": "2021-06-28T10:17:26.136800Z",
     "shell.execute_reply.started": "2021-06-28T09:58:10.444147Z"
    },
    "papermill": {
     "duration": 0.058672,
     "end_time": "2021-06-28T10:17:26.136968",
     "exception": false,
     "start_time": "2021-06-28T10:17:26.078296",
     "status": "completed"
    },
    "tags": []
   },
   "outputs": [
    {
     "data": {
      "text/html": [
       "<div>\n",
       "<style scoped>\n",
       "    .dataframe tbody tr th:only-of-type {\n",
       "        vertical-align: middle;\n",
       "    }\n",
       "\n",
       "    .dataframe tbody tr th {\n",
       "        vertical-align: top;\n",
       "    }\n",
       "\n",
       "    .dataframe thead th {\n",
       "        text-align: right;\n",
       "    }\n",
       "</style>\n",
       "<table border=\"1\" class=\"dataframe\">\n",
       "  <thead>\n",
       "    <tr style=\"text-align: right;\">\n",
       "      <th></th>\n",
       "      <th>revenue</th>\n",
       "      <th>reach</th>\n",
       "      <th>local_tv</th>\n",
       "      <th>online</th>\n",
       "      <th>instore</th>\n",
       "      <th>person</th>\n",
       "      <th>event_cobranding</th>\n",
       "      <th>event_holiday</th>\n",
       "      <th>event_non_event</th>\n",
       "      <th>event_special</th>\n",
       "    </tr>\n",
       "  </thead>\n",
       "  <tbody>\n",
       "    <tr>\n",
       "      <th>0</th>\n",
       "      <td>45860.28</td>\n",
       "      <td>2</td>\n",
       "      <td>31694.91</td>\n",
       "      <td>2115</td>\n",
       "      <td>3296</td>\n",
       "      <td>8</td>\n",
       "      <td>0</td>\n",
       "      <td>0</td>\n",
       "      <td>1</td>\n",
       "      <td>0</td>\n",
       "    </tr>\n",
       "    <tr>\n",
       "      <th>1</th>\n",
       "      <td>63588.23</td>\n",
       "      <td>2</td>\n",
       "      <td>35040.17</td>\n",
       "      <td>1826</td>\n",
       "      <td>2501</td>\n",
       "      <td>14</td>\n",
       "      <td>0</td>\n",
       "      <td>0</td>\n",
       "      <td>0</td>\n",
       "      <td>1</td>\n",
       "    </tr>\n",
       "    <tr>\n",
       "      <th>2</th>\n",
       "      <td>23272.69</td>\n",
       "      <td>4</td>\n",
       "      <td>30992.82</td>\n",
       "      <td>1851</td>\n",
       "      <td>2524</td>\n",
       "      <td>6</td>\n",
       "      <td>0</td>\n",
       "      <td>0</td>\n",
       "      <td>0</td>\n",
       "      <td>1</td>\n",
       "    </tr>\n",
       "    <tr>\n",
       "      <th>3</th>\n",
       "      <td>45911.23</td>\n",
       "      <td>2</td>\n",
       "      <td>29417.78</td>\n",
       "      <td>2437</td>\n",
       "      <td>3049</td>\n",
       "      <td>12</td>\n",
       "      <td>0</td>\n",
       "      <td>0</td>\n",
       "      <td>0</td>\n",
       "      <td>1</td>\n",
       "    </tr>\n",
       "    <tr>\n",
       "      <th>4</th>\n",
       "      <td>36644.23</td>\n",
       "      <td>2</td>\n",
       "      <td>35611.11</td>\n",
       "      <td>1122</td>\n",
       "      <td>1142</td>\n",
       "      <td>13</td>\n",
       "      <td>1</td>\n",
       "      <td>0</td>\n",
       "      <td>0</td>\n",
       "      <td>0</td>\n",
       "    </tr>\n",
       "    <tr>\n",
       "      <th>5</th>\n",
       "      <td>36172.81</td>\n",
       "      <td>4</td>\n",
       "      <td>22372.59</td>\n",
       "      <td>2001</td>\n",
       "      <td>1881</td>\n",
       "      <td>17</td>\n",
       "      <td>1</td>\n",
       "      <td>0</td>\n",
       "      <td>0</td>\n",
       "      <td>0</td>\n",
       "    </tr>\n",
       "    <tr>\n",
       "      <th>6</th>\n",
       "      <td>43797.03</td>\n",
       "      <td>3</td>\n",
       "      <td>31443.74</td>\n",
       "      <td>1667</td>\n",
       "      <td>1846</td>\n",
       "      <td>15</td>\n",
       "      <td>1</td>\n",
       "      <td>0</td>\n",
       "      <td>0</td>\n",
       "      <td>0</td>\n",
       "    </tr>\n",
       "    <tr>\n",
       "      <th>7</th>\n",
       "      <td>41629.80</td>\n",
       "      <td>4</td>\n",
       "      <td>35775.75</td>\n",
       "      <td>1155</td>\n",
       "      <td>2715</td>\n",
       "      <td>12</td>\n",
       "      <td>0</td>\n",
       "      <td>0</td>\n",
       "      <td>0</td>\n",
       "      <td>1</td>\n",
       "    </tr>\n",
       "    <tr>\n",
       "      <th>8</th>\n",
       "      <td>21303.48</td>\n",
       "      <td>2</td>\n",
       "      <td>24888.31</td>\n",
       "      <td>1853</td>\n",
       "      <td>3677</td>\n",
       "      <td>4</td>\n",
       "      <td>0</td>\n",
       "      <td>0</td>\n",
       "      <td>1</td>\n",
       "      <td>0</td>\n",
       "    </tr>\n",
       "    <tr>\n",
       "      <th>9</th>\n",
       "      <td>20746.15</td>\n",
       "      <td>4</td>\n",
       "      <td>26623.48</td>\n",
       "      <td>1497</td>\n",
       "      <td>3075</td>\n",
       "      <td>9</td>\n",
       "      <td>0</td>\n",
       "      <td>1</td>\n",
       "      <td>0</td>\n",
       "      <td>0</td>\n",
       "    </tr>\n",
       "  </tbody>\n",
       "</table>\n",
       "</div>"
      ],
      "text/plain": [
       "    revenue  reach  local_tv  online  instore  person  event_cobranding  \\\n",
       "0  45860.28      2  31694.91    2115     3296       8                 0   \n",
       "1  63588.23      2  35040.17    1826     2501      14                 0   \n",
       "2  23272.69      4  30992.82    1851     2524       6                 0   \n",
       "3  45911.23      2  29417.78    2437     3049      12                 0   \n",
       "4  36644.23      2  35611.11    1122     1142      13                 1   \n",
       "5  36172.81      4  22372.59    2001     1881      17                 1   \n",
       "6  43797.03      3  31443.74    1667     1846      15                 1   \n",
       "7  41629.80      4  35775.75    1155     2715      12                 0   \n",
       "8  21303.48      2  24888.31    1853     3677       4                 0   \n",
       "9  20746.15      4  26623.48    1497     3075       9                 0   \n",
       "\n",
       "   event_holiday  event_non_event  event_special  \n",
       "0              0                1              0  \n",
       "1              0                0              1  \n",
       "2              0                0              1  \n",
       "3              0                0              1  \n",
       "4              0                0              0  \n",
       "5              0                0              0  \n",
       "6              0                0              0  \n",
       "7              0                0              1  \n",
       "8              0                1              0  \n",
       "9              1                0              0  "
      ]
     },
     "execution_count": 12,
     "metadata": {},
     "output_type": "execute_result"
    }
   ],
   "source": [
    "store.head(10)"
   ]
  },
  {
   "cell_type": "markdown",
   "id": "final-choir",
   "metadata": {
    "papermill": {
     "duration": 0.039231,
     "end_time": "2021-06-28T10:17:26.215169",
     "exception": false,
     "start_time": "2021-06-28T10:17:26.175938",
     "status": "completed"
    },
    "tags": []
   },
   "source": [
    "All 4 event sub-types have become 4 new vaiables, and '1' represents 'yes', '0'represent 'no'. Can also take a look at info(), will see the data type is changed from object to uint8."
   ]
  },
  {
   "cell_type": "code",
   "execution_count": 13,
   "id": "suffering-rover",
   "metadata": {
    "execution": {
     "iopub.execute_input": "2021-06-28T10:17:26.301246Z",
     "iopub.status.busy": "2021-06-28T10:17:26.300120Z",
     "iopub.status.idle": "2021-06-28T10:17:26.315859Z",
     "shell.execute_reply": "2021-06-28T10:17:26.316414Z",
     "shell.execute_reply.started": "2021-06-28T09:58:26.291385Z"
    },
    "papermill": {
     "duration": 0.062341,
     "end_time": "2021-06-28T10:17:26.316607",
     "exception": false,
     "start_time": "2021-06-28T10:17:26.254266",
     "status": "completed"
    },
    "tags": []
   },
   "outputs": [
    {
     "name": "stdout",
     "output_type": "stream",
     "text": [
      "<class 'pandas.core.frame.DataFrame'>\n",
      "RangeIndex: 985 entries, 0 to 984\n",
      "Data columns (total 10 columns):\n",
      " #   Column            Non-Null Count  Dtype  \n",
      "---  ------            --------------  -----  \n",
      " 0   revenue           985 non-null    float64\n",
      " 1   reach             985 non-null    int64  \n",
      " 2   local_tv          985 non-null    float64\n",
      " 3   online            985 non-null    int64  \n",
      " 4   instore           985 non-null    int64  \n",
      " 5   person            985 non-null    int64  \n",
      " 6   event_cobranding  985 non-null    uint8  \n",
      " 7   event_holiday     985 non-null    uint8  \n",
      " 8   event_non_event   985 non-null    uint8  \n",
      " 9   event_special     985 non-null    uint8  \n",
      "dtypes: float64(2), int64(4), uint8(4)\n",
      "memory usage: 50.1 KB\n"
     ]
    }
   ],
   "source": [
    "store.info()"
   ]
  },
  {
   "cell_type": "markdown",
   "id": "extended-lighting",
   "metadata": {
    "papermill": {
     "duration": 0.039404,
     "end_time": "2021-06-28T10:17:26.395866",
     "exception": false,
     "start_time": "2021-06-28T10:17:26.356462",
     "status": "completed"
    },
    "tags": []
   },
   "source": [
    "### Correlation and Visualisation\n",
    "\n",
    "Now, the dataframe is completed, it's time to do some correlation!"
   ]
  },
  {
   "cell_type": "code",
   "execution_count": 14,
   "id": "endangered-comedy",
   "metadata": {
    "execution": {
     "iopub.execute_input": "2021-06-28T10:17:26.479062Z",
     "iopub.status.busy": "2021-06-28T10:17:26.478400Z",
     "iopub.status.idle": "2021-06-28T10:17:26.499455Z",
     "shell.execute_reply": "2021-06-28T10:17:26.499922Z",
     "shell.execute_reply.started": "2021-06-28T09:58:33.134616Z"
    },
    "papermill": {
     "duration": 0.064545,
     "end_time": "2021-06-28T10:17:26.500128",
     "exception": false,
     "start_time": "2021-06-28T10:17:26.435583",
     "status": "completed"
    },
    "tags": []
   },
   "outputs": [
    {
     "data": {
      "text/html": [
       "<div>\n",
       "<style scoped>\n",
       "    .dataframe tbody tr th:only-of-type {\n",
       "        vertical-align: middle;\n",
       "    }\n",
       "\n",
       "    .dataframe tbody tr th {\n",
       "        vertical-align: top;\n",
       "    }\n",
       "\n",
       "    .dataframe thead th {\n",
       "        text-align: right;\n",
       "    }\n",
       "</style>\n",
       "<table border=\"1\" class=\"dataframe\">\n",
       "  <thead>\n",
       "    <tr style=\"text-align: right;\">\n",
       "      <th></th>\n",
       "      <th>revenue</th>\n",
       "      <th>reach</th>\n",
       "      <th>local_tv</th>\n",
       "      <th>online</th>\n",
       "      <th>instore</th>\n",
       "      <th>person</th>\n",
       "      <th>event_cobranding</th>\n",
       "      <th>event_holiday</th>\n",
       "      <th>event_non_event</th>\n",
       "      <th>event_special</th>\n",
       "    </tr>\n",
       "  </thead>\n",
       "  <tbody>\n",
       "    <tr>\n",
       "      <th>revenue</th>\n",
       "      <td>1.000000</td>\n",
       "      <td>-0.155314</td>\n",
       "      <td>0.588349</td>\n",
       "      <td>0.171227</td>\n",
       "      <td>0.311739</td>\n",
       "      <td>0.559208</td>\n",
       "      <td>-0.005623</td>\n",
       "      <td>-0.016559</td>\n",
       "      <td>-0.019155</td>\n",
       "      <td>0.033752</td>\n",
       "    </tr>\n",
       "    <tr>\n",
       "      <th>reach</th>\n",
       "      <td>-0.155314</td>\n",
       "      <td>1.000000</td>\n",
       "      <td>-0.033206</td>\n",
       "      <td>-0.025141</td>\n",
       "      <td>0.035635</td>\n",
       "      <td>0.061417</td>\n",
       "      <td>0.043809</td>\n",
       "      <td>0.020398</td>\n",
       "      <td>-0.043128</td>\n",
       "      <td>-0.023330</td>\n",
       "    </tr>\n",
       "    <tr>\n",
       "      <th>local_tv</th>\n",
       "      <td>0.588349</td>\n",
       "      <td>-0.033206</td>\n",
       "      <td>1.000000</td>\n",
       "      <td>0.006666</td>\n",
       "      <td>-0.045598</td>\n",
       "      <td>0.047622</td>\n",
       "      <td>0.020289</td>\n",
       "      <td>-0.038305</td>\n",
       "      <td>0.011029</td>\n",
       "      <td>-0.005702</td>\n",
       "    </tr>\n",
       "    <tr>\n",
       "      <th>online</th>\n",
       "      <td>0.171227</td>\n",
       "      <td>-0.025141</td>\n",
       "      <td>0.006666</td>\n",
       "      <td>1.000000</td>\n",
       "      <td>-0.026399</td>\n",
       "      <td>0.036662</td>\n",
       "      <td>-0.024646</td>\n",
       "      <td>-0.018596</td>\n",
       "      <td>-0.020587</td>\n",
       "      <td>0.056799</td>\n",
       "    </tr>\n",
       "    <tr>\n",
       "      <th>instore</th>\n",
       "      <td>0.311739</td>\n",
       "      <td>0.035635</td>\n",
       "      <td>-0.045598</td>\n",
       "      <td>-0.026399</td>\n",
       "      <td>1.000000</td>\n",
       "      <td>-0.007482</td>\n",
       "      <td>-0.057725</td>\n",
       "      <td>0.045963</td>\n",
       "      <td>0.015495</td>\n",
       "      <td>0.017788</td>\n",
       "    </tr>\n",
       "    <tr>\n",
       "      <th>person</th>\n",
       "      <td>0.559208</td>\n",
       "      <td>0.061417</td>\n",
       "      <td>0.047622</td>\n",
       "      <td>0.036662</td>\n",
       "      <td>-0.007482</td>\n",
       "      <td>1.000000</td>\n",
       "      <td>0.002439</td>\n",
       "      <td>-0.025692</td>\n",
       "      <td>-0.025568</td>\n",
       "      <td>0.036771</td>\n",
       "    </tr>\n",
       "    <tr>\n",
       "      <th>event_cobranding</th>\n",
       "      <td>-0.005623</td>\n",
       "      <td>0.043809</td>\n",
       "      <td>0.020289</td>\n",
       "      <td>-0.024646</td>\n",
       "      <td>-0.057725</td>\n",
       "      <td>0.002439</td>\n",
       "      <td>1.000000</td>\n",
       "      <td>-0.281389</td>\n",
       "      <td>-0.405169</td>\n",
       "      <td>-0.534499</td>\n",
       "    </tr>\n",
       "    <tr>\n",
       "      <th>event_holiday</th>\n",
       "      <td>-0.016559</td>\n",
       "      <td>0.020398</td>\n",
       "      <td>-0.038305</td>\n",
       "      <td>-0.018596</td>\n",
       "      <td>0.045963</td>\n",
       "      <td>-0.025692</td>\n",
       "      <td>-0.281389</td>\n",
       "      <td>1.000000</td>\n",
       "      <td>-0.168151</td>\n",
       "      <td>-0.221824</td>\n",
       "    </tr>\n",
       "    <tr>\n",
       "      <th>event_non_event</th>\n",
       "      <td>-0.019155</td>\n",
       "      <td>-0.043128</td>\n",
       "      <td>0.011029</td>\n",
       "      <td>-0.020587</td>\n",
       "      <td>0.015495</td>\n",
       "      <td>-0.025568</td>\n",
       "      <td>-0.405169</td>\n",
       "      <td>-0.168151</td>\n",
       "      <td>1.000000</td>\n",
       "      <td>-0.319403</td>\n",
       "    </tr>\n",
       "    <tr>\n",
       "      <th>event_special</th>\n",
       "      <td>0.033752</td>\n",
       "      <td>-0.023330</td>\n",
       "      <td>-0.005702</td>\n",
       "      <td>0.056799</td>\n",
       "      <td>0.017788</td>\n",
       "      <td>0.036771</td>\n",
       "      <td>-0.534499</td>\n",
       "      <td>-0.221824</td>\n",
       "      <td>-0.319403</td>\n",
       "      <td>1.000000</td>\n",
       "    </tr>\n",
       "  </tbody>\n",
       "</table>\n",
       "</div>"
      ],
      "text/plain": [
       "                   revenue     reach  local_tv    online   instore    person  \\\n",
       "revenue           1.000000 -0.155314  0.588349  0.171227  0.311739  0.559208   \n",
       "reach            -0.155314  1.000000 -0.033206 -0.025141  0.035635  0.061417   \n",
       "local_tv          0.588349 -0.033206  1.000000  0.006666 -0.045598  0.047622   \n",
       "online            0.171227 -0.025141  0.006666  1.000000 -0.026399  0.036662   \n",
       "instore           0.311739  0.035635 -0.045598 -0.026399  1.000000 -0.007482   \n",
       "person            0.559208  0.061417  0.047622  0.036662 -0.007482  1.000000   \n",
       "event_cobranding -0.005623  0.043809  0.020289 -0.024646 -0.057725  0.002439   \n",
       "event_holiday    -0.016559  0.020398 -0.038305 -0.018596  0.045963 -0.025692   \n",
       "event_non_event  -0.019155 -0.043128  0.011029 -0.020587  0.015495 -0.025568   \n",
       "event_special     0.033752 -0.023330 -0.005702  0.056799  0.017788  0.036771   \n",
       "\n",
       "                  event_cobranding  event_holiday  event_non_event  \\\n",
       "revenue                  -0.005623      -0.016559        -0.019155   \n",
       "reach                     0.043809       0.020398        -0.043128   \n",
       "local_tv                  0.020289      -0.038305         0.011029   \n",
       "online                   -0.024646      -0.018596        -0.020587   \n",
       "instore                  -0.057725       0.045963         0.015495   \n",
       "person                    0.002439      -0.025692        -0.025568   \n",
       "event_cobranding          1.000000      -0.281389        -0.405169   \n",
       "event_holiday            -0.281389       1.000000        -0.168151   \n",
       "event_non_event          -0.405169      -0.168151         1.000000   \n",
       "event_special            -0.534499      -0.221824        -0.319403   \n",
       "\n",
       "                  event_special  \n",
       "revenue                0.033752  \n",
       "reach                 -0.023330  \n",
       "local_tv              -0.005702  \n",
       "online                 0.056799  \n",
       "instore                0.017788  \n",
       "person                 0.036771  \n",
       "event_cobranding      -0.534499  \n",
       "event_holiday         -0.221824  \n",
       "event_non_event       -0.319403  \n",
       "event_special          1.000000  "
      ]
     },
     "execution_count": 14,
     "metadata": {},
     "output_type": "execute_result"
    }
   ],
   "source": [
    "store.corr()"
   ]
  },
  {
   "cell_type": "markdown",
   "id": "absolute-penetration",
   "metadata": {
    "papermill": {
     "duration": 0.039883,
     "end_time": "2021-06-28T10:17:26.580805",
     "exception": false,
     "start_time": "2021-06-28T10:17:26.540922",
     "status": "completed"
    },
    "tags": []
   },
   "source": [
    "In order to see a clear correlation amang revenue and all the other vaiables, I will use the following code:"
   ]
  },
  {
   "cell_type": "code",
   "execution_count": 15,
   "id": "radical-final",
   "metadata": {
    "execution": {
     "iopub.execute_input": "2021-06-28T10:17:26.666035Z",
     "iopub.status.busy": "2021-06-28T10:17:26.665354Z",
     "iopub.status.idle": "2021-06-28T10:17:26.678714Z",
     "shell.execute_reply": "2021-06-28T10:17:26.679193Z",
     "shell.execute_reply.started": "2021-06-28T09:58:44.581139Z"
    },
    "papermill": {
     "duration": 0.058214,
     "end_time": "2021-06-28T10:17:26.679373",
     "exception": false,
     "start_time": "2021-06-28T10:17:26.621159",
     "status": "completed"
    },
    "tags": []
   },
   "outputs": [
    {
     "data": {
      "text/html": [
       "<div>\n",
       "<style scoped>\n",
       "    .dataframe tbody tr th:only-of-type {\n",
       "        vertical-align: middle;\n",
       "    }\n",
       "\n",
       "    .dataframe tbody tr th {\n",
       "        vertical-align: top;\n",
       "    }\n",
       "\n",
       "    .dataframe thead th {\n",
       "        text-align: right;\n",
       "    }\n",
       "</style>\n",
       "<table border=\"1\" class=\"dataframe\">\n",
       "  <thead>\n",
       "    <tr style=\"text-align: right;\">\n",
       "      <th></th>\n",
       "      <th>revenue</th>\n",
       "    </tr>\n",
       "  </thead>\n",
       "  <tbody>\n",
       "    <tr>\n",
       "      <th>revenue</th>\n",
       "      <td>1.000000</td>\n",
       "    </tr>\n",
       "    <tr>\n",
       "      <th>local_tv</th>\n",
       "      <td>0.588349</td>\n",
       "    </tr>\n",
       "    <tr>\n",
       "      <th>person</th>\n",
       "      <td>0.559208</td>\n",
       "    </tr>\n",
       "    <tr>\n",
       "      <th>instore</th>\n",
       "      <td>0.311739</td>\n",
       "    </tr>\n",
       "    <tr>\n",
       "      <th>online</th>\n",
       "      <td>0.171227</td>\n",
       "    </tr>\n",
       "    <tr>\n",
       "      <th>event_special</th>\n",
       "      <td>0.033752</td>\n",
       "    </tr>\n",
       "    <tr>\n",
       "      <th>event_cobranding</th>\n",
       "      <td>-0.005623</td>\n",
       "    </tr>\n",
       "    <tr>\n",
       "      <th>event_holiday</th>\n",
       "      <td>-0.016559</td>\n",
       "    </tr>\n",
       "    <tr>\n",
       "      <th>event_non_event</th>\n",
       "      <td>-0.019155</td>\n",
       "    </tr>\n",
       "    <tr>\n",
       "      <th>reach</th>\n",
       "      <td>-0.155314</td>\n",
       "    </tr>\n",
       "  </tbody>\n",
       "</table>\n",
       "</div>"
      ],
      "text/plain": [
       "                   revenue\n",
       "revenue           1.000000\n",
       "local_tv          0.588349\n",
       "person            0.559208\n",
       "instore           0.311739\n",
       "online            0.171227\n",
       "event_special     0.033752\n",
       "event_cobranding -0.005623\n",
       "event_holiday    -0.016559\n",
       "event_non_event  -0.019155\n",
       "reach            -0.155314"
      ]
     },
     "execution_count": 15,
     "metadata": {},
     "output_type": "execute_result"
    }
   ],
   "source": [
    "store.corr()[['revenue']].sort_values('revenue',ascending=False)"
   ]
  },
  {
   "cell_type": "markdown",
   "id": "centered-scanning",
   "metadata": {
    "papermill": {
     "duration": 0.040647,
     "end_time": "2021-06-28T10:17:26.761318",
     "exception": false,
     "start_time": "2021-06-28T10:17:26.720671",
     "status": "completed"
    },
    "tags": []
   },
   "source": [
    "Now, it is clear that local_tv,person,instore are mostly correlated to revenue."
   ]
  },
  {
   "cell_type": "markdown",
   "id": "comparative-tractor",
   "metadata": {
    "papermill": {
     "duration": 0.041134,
     "end_time": "2021-06-28T10:17:26.843556",
     "exception": false,
     "start_time": "2021-06-28T10:17:26.802422",
     "status": "completed"
    },
    "tags": []
   },
   "source": [
    "It will be helpful to see some trend using regression plot here."
   ]
  },
  {
   "cell_type": "code",
   "execution_count": 16,
   "id": "convinced-shanghai",
   "metadata": {
    "execution": {
     "iopub.execute_input": "2021-06-28T10:17:26.931191Z",
     "iopub.status.busy": "2021-06-28T10:17:26.930499Z",
     "iopub.status.idle": "2021-06-28T10:17:27.870474Z",
     "shell.execute_reply": "2021-06-28T10:17:27.869764Z",
     "shell.execute_reply.started": "2021-06-28T09:58:56.826718Z"
    },
    "papermill": {
     "duration": 0.986157,
     "end_time": "2021-06-28T10:17:27.870655",
     "exception": false,
     "start_time": "2021-06-28T10:17:26.884498",
     "status": "completed"
    },
    "tags": []
   },
   "outputs": [],
   "source": [
    "import seaborn as sns\n",
    "import matplotlib.pyplot as plt\n",
    "%matplotlib inline"
   ]
  },
  {
   "cell_type": "code",
   "execution_count": 17,
   "id": "victorian-arlington",
   "metadata": {
    "execution": {
     "iopub.execute_input": "2021-06-28T10:17:27.970523Z",
     "iopub.status.busy": "2021-06-28T10:17:27.961626Z",
     "iopub.status.idle": "2021-06-28T10:17:28.342866Z",
     "shell.execute_reply": "2021-06-28T10:17:28.342233Z",
     "shell.execute_reply.started": "2021-06-28T09:59:03.691074Z"
    },
    "papermill": {
     "duration": 0.429479,
     "end_time": "2021-06-28T10:17:28.343047",
     "exception": false,
     "start_time": "2021-06-28T10:17:27.913568",
     "status": "completed"
    },
    "tags": []
   },
   "outputs": [
    {
     "data": {
      "text/plain": [
       "<AxesSubplot:xlabel='local_tv', ylabel='revenue'>"
      ]
     },
     "execution_count": 17,
     "metadata": {},
     "output_type": "execute_result"
    },
    {
     "data": {
      "image/png": "[encoded data removed]",
      "text/plain": [
       "<Figure size 432x288 with 1 Axes>"
      ]
     },
     "metadata": {
      "needs_background": "light"
     },
     "output_type": "display_data"
    }
   ],
   "source": [
    "sns.regplot(x = 'local_tv', y = 'revenue', data = store)"
   ]
  },
  {
   "cell_type": "code",
   "execution_count": 18,
   "id": "handed-winning",
   "metadata": {
    "execution": {
     "iopub.execute_input": "2021-06-28T10:17:28.438852Z",
     "iopub.status.busy": "2021-06-28T10:17:28.438146Z",
     "iopub.status.idle": "2021-06-28T10:17:28.765701Z",
     "shell.execute_reply": "2021-06-28T10:17:28.765051Z",
     "shell.execute_reply.started": "2021-06-28T09:59:06.365469Z"
    },
    "papermill": {
     "duration": 0.379145,
     "end_time": "2021-06-28T10:17:28.765869",
     "exception": false,
     "start_time": "2021-06-28T10:17:28.386724",
     "status": "completed"
    },
    "tags": []
   },
   "outputs": [
    {
     "data": {
      "text/plain": [
       "<AxesSubplot:xlabel='person', ylabel='revenue'>"
      ]
     },
     "execution_count": 18,
     "metadata": {},
     "output_type": "execute_result"
    },
    {
     "data": {
      "image/png": "[encoded data removed]",
      "text/plain": [
       "<Figure size 432x288 with 1 Axes>"
      ]
     },
     "metadata": {
      "needs_background": "light"
     },
     "output_type": "display_data"
    }
   ],
   "source": [
    "sns.regplot(x = 'person', y = 'revenue', data = store)"
   ]
  },
  {
   "cell_type": "code",
   "execution_count": 19,
   "id": "former-waterproof",
   "metadata": {
    "execution": {
     "iopub.execute_input": "2021-06-28T10:17:28.881082Z",
     "iopub.status.busy": "2021-06-28T10:17:28.880346Z",
     "iopub.status.idle": "2021-06-28T10:17:29.210834Z",
     "shell.execute_reply": "2021-06-28T10:17:29.210264Z",
     "shell.execute_reply.started": "2021-06-28T09:59:09.42318Z"
    },
    "papermill": {
     "duration": 0.39859,
     "end_time": "2021-06-28T10:17:29.211024",
     "exception": false,
     "start_time": "2021-06-28T10:17:28.812434",
     "status": "completed"
    },
    "tags": []
   },
   "outputs": [
    {
     "data": {
      "text/plain": [
       "<AxesSubplot:xlabel='instore', ylabel='revenue'>"
      ]
     },
     "execution_count": 19,
     "metadata": {},
     "output_type": "execute_result"
    },
    {
     "data": {
      "image/png": "[encoded data removed]",
      "text/plain": [
       "<Figure size 432x288 with 1 Axes>"
      ]
     },
     "metadata": {
      "needs_background": "light"
     },
     "output_type": "display_data"
    }
   ],
   "source": [
    "sns.regplot(x = 'instore', y = 'revenue', data = store)"
   ]
  },
  {
   "cell_type": "markdown",
   "id": "alleged-explanation",
   "metadata": {
    "papermill": {
     "duration": 0.048371,
     "end_time": "2021-06-28T10:17:29.308914",
     "exception": false,
     "start_time": "2021-06-28T10:17:29.260543",
     "status": "completed"
    },
    "tags": []
   },
   "source": [
    "From the regression plot above, we can take a overall look at how each point distributed and how closely it is to the linear regression. While there are many outliers, but overall the points focus on the center. "
   ]
  },
  {
   "cell_type": "markdown",
   "id": "logical-feedback",
   "metadata": {
    "papermill": {
     "duration": 0.046957,
     "end_time": "2021-06-28T10:17:29.404541",
     "exception": false,
     "start_time": "2021-06-28T10:17:29.357584",
     "status": "completed"
    },
    "tags": []
   },
   "source": [
    "### Linear Regression modeling"
   ]
  },
  {
   "cell_type": "code",
   "execution_count": 20,
   "id": "czech-duplicate",
   "metadata": {
    "execution": {
     "iopub.execute_input": "2021-06-28T10:17:29.502534Z",
     "iopub.status.busy": "2021-06-28T10:17:29.501844Z",
     "iopub.status.idle": "2021-06-28T10:17:29.825356Z",
     "shell.execute_reply": "2021-06-28T10:17:29.825834Z",
     "shell.execute_reply.started": "2021-06-28T09:59:27.269964Z"
    },
    "papermill": {
     "duration": 0.374834,
     "end_time": "2021-06-28T10:17:29.826063",
     "exception": false,
     "start_time": "2021-06-28T10:17:29.451229",
     "status": "completed"
    },
    "tags": []
   },
   "outputs": [],
   "source": [
    "from sklearn.linear_model import LinearRegression"
   ]
  },
  {
   "cell_type": "code",
   "execution_count": 21,
   "id": "acute-reynolds",
   "metadata": {
    "execution": {
     "iopub.execute_input": "2021-06-28T10:17:29.925219Z",
     "iopub.status.busy": "2021-06-28T10:17:29.924340Z",
     "iopub.status.idle": "2021-06-28T10:17:29.927655Z",
     "shell.execute_reply": "2021-06-28T10:17:29.927168Z",
     "shell.execute_reply.started": "2021-06-28T09:59:35.830296Z"
    },
    "papermill": {
     "duration": 0.054054,
     "end_time": "2021-06-28T10:17:29.927787",
     "exception": false,
     "start_time": "2021-06-28T10:17:29.873733",
     "status": "completed"
    },
    "tags": []
   },
   "outputs": [],
   "source": [
    "# Build model\n",
    "model=LinearRegression()"
   ]
  },
  {
   "cell_type": "code",
   "execution_count": 22,
   "id": "mexican-description",
   "metadata": {
    "execution": {
     "iopub.execute_input": "2021-06-28T10:17:30.029539Z",
     "iopub.status.busy": "2021-06-28T10:17:30.027087Z",
     "iopub.status.idle": "2021-06-28T10:17:30.032678Z",
     "shell.execute_reply": "2021-06-28T10:17:30.032082Z",
     "shell.execute_reply.started": "2021-06-28T09:59:38.670326Z"
    },
    "papermill": {
     "duration": 0.058017,
     "end_time": "2021-06-28T10:17:30.032815",
     "exception": false,
     "start_time": "2021-06-28T10:17:29.974798",
     "status": "completed"
    },
    "tags": []
   },
   "outputs": [],
   "source": [
    "# Create independent variable x and denpendent variable y.\n",
    "x = store[['local_tv','person','instore']]\n",
    "y = store['revenue']"
   ]
  },
  {
   "cell_type": "code",
   "execution_count": 23,
   "id": "handled-yorkshire",
   "metadata": {
    "execution": {
     "iopub.execute_input": "2021-06-28T10:17:30.148011Z",
     "iopub.status.busy": "2021-06-28T10:17:30.132983Z",
     "iopub.status.idle": "2021-06-28T10:17:30.154607Z",
     "shell.execute_reply": "2021-06-28T10:17:30.155067Z",
     "shell.execute_reply.started": "2021-06-28T09:59:40.930742Z"
    },
    "papermill": {
     "duration": 0.076096,
     "end_time": "2021-06-28T10:17:30.155254",
     "exception": false,
     "start_time": "2021-06-28T10:17:30.079158",
     "status": "completed"
    },
    "tags": []
   },
   "outputs": [
    {
     "data": {
      "text/plain": [
       "LinearRegression()"
      ]
     },
     "execution_count": 23,
     "metadata": {},
     "output_type": "execute_result"
    }
   ],
   "source": [
    "# Model fitting\n",
    "model.fit(x,y)"
   ]
  },
  {
   "cell_type": "code",
   "execution_count": 24,
   "id": "opposite-reason",
   "metadata": {
    "execution": {
     "iopub.execute_input": "2021-06-28T10:17:30.254118Z",
     "iopub.status.busy": "2021-06-28T10:17:30.253222Z",
     "iopub.status.idle": "2021-06-28T10:17:30.258748Z",
     "shell.execute_reply": "2021-06-28T10:17:30.258093Z",
     "shell.execute_reply.started": "2021-06-28T09:59:43.071938Z"
    },
    "papermill": {
     "duration": 0.05723,
     "end_time": "2021-06-28T10:17:30.258913",
     "exception": false,
     "start_time": "2021-06-28T10:17:30.201683",
     "status": "completed"
    },
    "tags": []
   },
   "outputs": [
    {
     "data": {
      "text/plain": [
       "-52881.12439059004"
      ]
     },
     "execution_count": 24,
     "metadata": {},
     "output_type": "execute_result"
    }
   ],
   "source": [
    "# Model intercept\n",
    "model.intercept_"
   ]
  },
  {
   "cell_type": "code",
   "execution_count": 25,
   "id": "detailed-turkish",
   "metadata": {
    "execution": {
     "iopub.execute_input": "2021-06-28T10:17:30.360903Z",
     "iopub.status.busy": "2021-06-28T10:17:30.360238Z",
     "iopub.status.idle": "2021-06-28T10:17:30.363748Z",
     "shell.execute_reply": "2021-06-28T10:17:30.363147Z",
     "shell.execute_reply.started": "2021-06-28T09:59:46.893921Z"
    },
    "papermill": {
     "duration": 0.057046,
     "end_time": "2021-06-28T10:17:30.363887",
     "exception": false,
     "start_time": "2021-06-28T10:17:30.306841",
     "status": "completed"
    },
    "tags": []
   },
   "outputs": [
    {
     "data": {
      "text/plain": [
       "array([1.75153812e+00, 2.05057495e+03, 4.09032709e+00])"
      ]
     },
     "execution_count": 25,
     "metadata": {},
     "output_type": "execute_result"
    }
   ],
   "source": [
    "# Model independent variables coefficients\n",
    "model.coef_"
   ]
  },
  {
   "cell_type": "markdown",
   "id": "offshore-greece",
   "metadata": {
    "papermill": {
     "duration": 0.04742,
     "end_time": "2021-06-28T10:17:30.458646",
     "exception": false,
     "start_time": "2021-06-28T10:17:30.411226",
     "status": "completed"
    },
    "tags": []
   },
   "source": [
    "### Model Evaluation and Improve"
   ]
  },
  {
   "cell_type": "code",
   "execution_count": 26,
   "id": "chubby-aluminum",
   "metadata": {
    "execution": {
     "iopub.execute_input": "2021-06-28T10:17:30.557926Z",
     "iopub.status.busy": "2021-06-28T10:17:30.557294Z",
     "iopub.status.idle": "2021-06-28T10:17:30.588238Z",
     "shell.execute_reply": "2021-06-28T10:17:30.587665Z",
     "shell.execute_reply.started": "2021-06-28T09:59:50.165019Z"
    },
    "papermill": {
     "duration": 0.082058,
     "end_time": "2021-06-28T10:17:30.588382",
     "exception": false,
     "start_time": "2021-06-28T10:17:30.506324",
     "status": "completed"
    },
    "tags": []
   },
   "outputs": [
    {
     "name": "stdout",
     "output_type": "stream",
     "text": [
      "5884.181391972568\n",
      "4717.89476648171\n"
     ]
    }
   ],
   "source": [
    "score=model.score(x,y)\n",
    "predictions=model.predict(x)\n",
    "error=predictions-y\n",
    "\n",
    "rmse=(error**2).mean()**.5\n",
    "mae=abs(error).mean()\n",
    "\n",
    "print(rmse)\n",
    "print(mae)"
   ]
  },
  {
   "cell_type": "markdown",
   "id": "tender-sherman",
   "metadata": {
    "papermill": {
     "duration": 0.047472,
     "end_time": "2021-06-28T10:17:30.684569",
     "exception": false,
     "start_time": "2021-06-28T10:17:30.637097",
     "status": "completed"
    },
    "tags": []
   },
   "source": [
    "I have already produced all needed parameters for the model. To be able to get the best model as we can, here I propose to do an extra thing - improve the model. How can we improve the model? The only thing we will need to do is to change some information, it could be:\n",
    "\n",
    "* when I was filling all null values, I used mean values, and now I could change the mean values to median values and see if MAE and RMSE are going to decrease.\n",
    "* another way is add a new variable to x.\n",
    "\n",
    "That's the basic idea, but I will not include the process here as it is just repeating work. The point is understand the core concept. However I am going to use another method to produce a linear regression model, here I'm using OLS."
   ]
  },
  {
   "cell_type": "code",
   "execution_count": 27,
   "id": "diagnostic-fishing",
   "metadata": {
    "execution": {
     "iopub.execute_input": "2021-06-28T10:17:30.784799Z",
     "iopub.status.busy": "2021-06-28T10:17:30.784105Z",
     "iopub.status.idle": "2021-06-28T10:17:31.100856Z",
     "shell.execute_reply": "2021-06-28T10:17:31.100194Z",
     "shell.execute_reply.started": "2021-06-28T10:01:10.937862Z"
    },
    "papermill": {
     "duration": 0.368832,
     "end_time": "2021-06-28T10:17:31.101046",
     "exception": false,
     "start_time": "2021-06-28T10:17:30.732214",
     "status": "completed"
    },
    "tags": []
   },
   "outputs": [],
   "source": [
    "from statsmodels.formula.api import ols"
   ]
  },
  {
   "cell_type": "code",
   "execution_count": 28,
   "id": "measured-hudson",
   "metadata": {
    "execution": {
     "iopub.execute_input": "2021-06-28T10:17:31.209173Z",
     "iopub.status.busy": "2021-06-28T10:17:31.208495Z",
     "iopub.status.idle": "2021-06-28T10:17:31.213734Z",
     "shell.execute_reply": "2021-06-28T10:17:31.213138Z",
     "shell.execute_reply.started": "2021-06-28T10:01:13.223946Z"
    },
    "papermill": {
     "duration": 0.062612,
     "end_time": "2021-06-28T10:17:31.213891",
     "exception": false,
     "start_time": "2021-06-28T10:17:31.151279",
     "status": "completed"
    },
    "tags": []
   },
   "outputs": [],
   "source": [
    "# This step is similar to linear regression model\n",
    "x=store[['local_tv','person','instore']]  \n",
    "y=store['revenue'] "
   ]
  },
  {
   "cell_type": "code",
   "execution_count": 29,
   "id": "precious-replica",
   "metadata": {
    "execution": {
     "iopub.execute_input": "2021-06-28T10:17:31.320377Z",
     "iopub.status.busy": "2021-06-28T10:17:31.319324Z",
     "iopub.status.idle": "2021-06-28T10:17:31.329337Z",
     "shell.execute_reply": "2021-06-28T10:17:31.328687Z",
     "shell.execute_reply.started": "2021-06-28T10:01:16.512106Z"
    },
    "papermill": {
     "duration": 0.067284,
     "end_time": "2021-06-28T10:17:31.329489",
     "exception": false,
     "start_time": "2021-06-28T10:17:31.262205",
     "status": "completed"
    },
    "tags": []
   },
   "outputs": [],
   "source": [
    "model=ols('y~x',store).fit()"
   ]
  },
  {
   "cell_type": "code",
   "execution_count": 30,
   "id": "front-webcam",
   "metadata": {
    "execution": {
     "iopub.execute_input": "2021-06-28T10:17:31.431449Z",
     "iopub.status.busy": "2021-06-28T10:17:31.430381Z",
     "iopub.status.idle": "2021-06-28T10:17:31.453061Z",
     "shell.execute_reply": "2021-06-28T10:17:31.451844Z",
     "shell.execute_reply.started": "2021-06-28T10:01:18.864584Z"
    },
    "papermill": {
     "duration": 0.075914,
     "end_time": "2021-06-28T10:17:31.453259",
     "exception": false,
     "start_time": "2021-06-28T10:17:31.377345",
     "status": "completed"
    },
    "tags": []
   },
   "outputs": [
    {
     "name": "stdout",
     "output_type": "stream",
     "text": [
      "                            OLS Regression Results                            \n",
      "==============================================================================\n",
      "Dep. Variable:                      y   R-squared:                       0.746\n",
      "Model:                            OLS   Adj. R-squared:                  0.745\n",
      "Method:                 Least Squares   F-statistic:                     959.2\n",
      "Date:                Mon, 28 Jun 2021   Prob (F-statistic):          4.09e-291\n",
      "Time:                        10:17:31   Log-Likelihood:                -9947.5\n",
      "No. Observations:                 985   AIC:                         1.990e+04\n",
      "Df Residuals:                     981   BIC:                         1.992e+04\n",
      "Df Model:                           3                                         \n",
      "Covariance Type:            nonrobust                                         \n",
      "==============================================================================\n",
      "                 coef    std err          t      P>|t|      [0.025      0.975]\n",
      "------------------------------------------------------------------------------\n",
      "Intercept  -5.288e+04   1804.489    -29.305      0.000   -5.64e+04   -4.93e+04\n",
      "x[0]           1.7515      0.049     35.857      0.000       1.656       1.847\n",
      "x[1]        2050.5749     61.866     33.146      0.000    1929.171    2171.979\n",
      "x[2]           4.0903      0.193     21.229      0.000       3.712       4.468\n",
      "==============================================================================\n",
      "Omnibus:                        0.352   Durbin-Watson:                   2.056\n",
      "Prob(Omnibus):                  0.839   Jarque-Bera (JB):                0.402\n",
      "Skew:                           0.043   Prob(JB):                        0.818\n",
      "Kurtosis:                       2.951   Cond. No.                     3.05e+05\n",
      "==============================================================================\n",
      "\n",
      "Notes:\n",
      "[1] Standard Errors assume that the covariance matrix of the errors is correctly specified.\n",
      "[2] The condition number is large, 3.05e+05. This might indicate that there are\n",
      "strong multicollinearity or other numerical problems.\n"
     ]
    }
   ],
   "source": [
    "print(model.summary())"
   ]
  },
  {
   "cell_type": "markdown",
   "id": "accepted-nicholas",
   "metadata": {
    "papermill": {
     "duration": 0.050477,
     "end_time": "2021-06-28T10:17:31.554950",
     "exception": false,
     "start_time": "2021-06-28T10:17:31.504473",
     "status": "completed"
    },
    "tags": []
   },
   "source": [
    "Very straightforward, and you can see the output intercept and coefficients are same as the linear regression model. Plus, you get more other parameters to help you understand the model. For example R-squared, AIC, BIC and other important tests."
   ]
  },
  {
   "cell_type": "markdown",
   "id": "southern-devil",
   "metadata": {
    "papermill": {
     "duration": 0.050547,
     "end_time": "2021-06-28T10:17:31.656717",
     "exception": false,
     "start_time": "2021-06-28T10:17:31.606170",
     "status": "completed"
    },
    "tags": []
   },
   "source": [
    "### Model and Business Interpretation\n",
    "\n",
    "Now, I am going to produce the final equation.\n",
    "\n",
    "revenue = -52880 + 1.75*local_tv + 2050*person + 4.09*instore\n",
    "\n",
    "**The following conclusions can be drawn:**\n",
    "\n",
    "* Every 1 £ increase in TV advertising investment, you can get 1.75 £ of revenue in return.\n",
    "* The revenue return of 4.09 £ can be realized for every 1 £ increase in in-store poster investment.\n",
    "* Every 1 sale staff increased, you can get 2050 £ of revenue in return.\n",
    "* Constant collection of data and the addition of new variables can improve the control of the overall marketing resource input."
   ]
  }
 ],
 "metadata": {
  "kernelspec": {
   "display_name": "Python 3",
   "language": "python",
   "name": "python3"
  },
  "language_info": {
   "codemirror_mode": {
    "name": "ipython",
    "version": 3
   },
   "file_extension": ".py",
   "mimetype": "text/x-python",
   "name": "python",
   "nbconvert_exporter": "python",
   "pygments_lexer": "ipython3",
   "version": "3.7.10"
  },
  "papermill": {
   "default_parameters": {},
   "duration": 16.860899,
   "end_time": "2021-06-28T10:17:32.622045",
   "environment_variables": {},
   "exception": null,
   "input_path": "__notebook__.ipynb",
   "output_path": "__notebook__.ipynb",
   "parameters": {},
   "start_time": "2021-06-28T10:17:15.761146",
   "version": "2.3.3"
  }
 },
 "nbformat": 4,
 "nbformat_minor": 5
}
